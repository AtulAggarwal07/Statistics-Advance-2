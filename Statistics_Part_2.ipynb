{
  "nbformat": 4,
  "nbformat_minor": 0,
  "metadata": {
    "colab": {
      "provenance": []
    },
    "kernelspec": {
      "name": "python3",
      "display_name": "Python 3"
    },
    "language_info": {
      "name": "python"
    }
  },
  "cells": [
    {
      "cell_type": "markdown",
      "source": [
        "# Statistics Part 2\n",
        "\n",
        "1. What is hypothesis testing in statistics?\n",
        "- Ans. Hypothesis testing is a method used to make decisions or draw conclusions about a population based on sample data. It helps us test assumptions (hypotheses) using statistical evidence.\n",
        "\n",
        "2. What is the null hypothesis, and how does it differ from the alternative hypothesis?\n",
        "- Ans.\n",
        "\n",
        "Null Hypothesis (H₀): Assumes there is no effect or difference.\n",
        "\n",
        "Alternative Hypothesis (H₁ or Ha): Assumes there is an effect or difference.\n",
        "We test the data to decide whether to reject H₀ in favor of H₁.\n",
        "\n",
        "3. What is the significance level in hypothesis testing, and why is it important?\n",
        "- Ans.\n",
        "\n",
        "Significance level (α) is the probability of rejecting the null hypothesis when it's actually true (Type I error).\n",
        "\n",
        "Common values: 0.05 or 5%.\n",
        "It defines how strong the evidence must be to reject H₀.\n",
        "\n",
        "4. What does a P-value represent in hypothesis testing?\n",
        "- Ans.\n",
        "P-value tells us the probability of getting the observed results (or more extreme) if the null hypothesis is true.\n",
        "\n",
        "5. How do you interpret the P-value in hypothesis testing?\n",
        "- Ans.\n",
        "\n",
        "If P-value ≤ α: Reject the null hypothesis (results are significant).\n",
        "\n",
        "If P-value > α: Fail to reject the null hypothesis (not enough evidence).\n",
        "\n",
        "6. What are Type 1 and Type 2 errors in hypothesis testing?\n",
        "- Ans.\n",
        "\n",
        "Type I Error: Rejecting a true null hypothesis (false positive).\n",
        "\n",
        "Type II Error: Not rejecting a false null hypothesis (false negative).\n",
        "\n",
        "7. What is the difference between a one-tailed and a two-tailed test in hypothesis testing?\n",
        "- Ans.\n",
        "\n",
        "One-tailed test: Checks for an effect in one direction only.\n",
        "\n",
        "Two-tailed test: Checks for an effect in both directions (increase or decrease).\n",
        "\n",
        "8. What is the Z-test, and when is it used in hypothesis testing?\n",
        "- Ans.\n",
        "Z-test is used when the population standard deviation is known and the sample size is large (n > 30), typically for comparing means.\n",
        "\n",
        "9. How do you calculate the Z-score, and what does it represent in hypothesis testing?\n",
        "- Ans.\n",
        "Formula:\n",
        "\n",
        "𝑍\n",
        "=\n",
        "𝑋\n",
        "ˉ\n",
        "−\n",
        "𝜇\n",
        "𝜎\n",
        "/\n",
        "𝑛\n",
        "Z=\n",
        "σ/\n",
        "n\n",
        "​\n",
        "\n",
        "X\n",
        "ˉ\n",
        " −μ\n",
        "​\n",
        "\n",
        "Where:\n",
        "\n",
        "𝑋\n",
        "ˉ\n",
        "X\n",
        "ˉ\n",
        "  = sample mean\n",
        "\n",
        "𝜇\n",
        "μ = population mean\n",
        "\n",
        "𝜎\n",
        "σ = standard deviation\n",
        "\n",
        "𝑛\n",
        "n = sample size\n",
        "\n",
        "It tells how many standard deviations the sample mean is from the population mean.\n",
        "\n",
        "10. What is the T-distribution, and when should it be used instead of the normal distribution?\n",
        "- Ans.\n",
        "The T-distribution is used when the sample size is small (n < 30) and population standard deviation is unknown.\n",
        "\n",
        "11. What is the difference between a Z-test and a T-test?\n",
        "- Ans.\n",
        "\n",
        "Z-test: Used when population standard deviation is known.\n",
        "\n",
        "T-test: Used when it is unknown and sample size is small.\n",
        "\n",
        "12. What is the T-test, and how is it used in hypothesis testing?\n",
        "- Ans.\n",
        "T-test compares sample means to check if they are significantly different.\n",
        "Types: One-sample, Two-sample (independent), and Paired t-tests.\n",
        "\n",
        "13. What is the relationship between Z-test and T-test in hypothesis testing?\n",
        "- Ans.\n",
        "Both are used to test hypotheses about means. T-test is a generalization of Z-test for smaller or more uncertain datasets.\n",
        "\n",
        "14. What is a confidence interval, and how is it used to interpret statistical results?\n",
        "- Ans.\n",
        "A confidence interval is a range of values likely to contain the population parameter.\n",
        "Example: 95% confidence interval means we are 95% confident the true mean lies within that range.\n",
        "\n",
        "15. What is the margin of error, and how does it affect the confidence interval?\n",
        "- Ans.\n",
        "The margin of error is the range above and below the sample statistic. Larger margin = wider confidence interval = more uncertainty.\n",
        "\n",
        "16. How is Bayes' Theorem used in statistics, and what is its significance?\n",
        "- Ans.\n",
        "Bayes' Theorem updates the probability of a hypothesis based on new evidence. It’s important in decision-making and probability modeling.\n",
        "\n",
        "Formula:\n",
        "\n",
        "𝑃\n",
        "(\n",
        "𝐴\n",
        "∣\n",
        "𝐵\n",
        ")\n",
        "=\n",
        "𝑃\n",
        "(\n",
        "𝐵\n",
        "∣\n",
        "𝐴\n",
        ")\n",
        "⋅\n",
        "𝑃\n",
        "(\n",
        "𝐴\n",
        ")\n",
        "𝑃\n",
        "(\n",
        "𝐵\n",
        ")\n",
        "P(A∣B)=\n",
        "P(B)\n",
        "P(B∣A)⋅P(A)\n",
        "​\n",
        "\n",
        "17. What is the Chi-square distribution, and when is it used?\n",
        "- Ans.\n",
        "Chi-square distribution is used for categorical data to test goodness of fit or independence between variables.\n",
        "\n",
        "18. What is the Chi-square goodness of fit test, and how is it applied?\n",
        "- Ans.\n",
        "It checks whether the observed frequency distribution matches an expected distribution.\n",
        "\n",
        "19. What is the F-distribution, and when is it used in hypothesis testing?\n",
        "- Ans.\n",
        "F-distribution is used in comparing two variances or in ANOVA for testing multiple group means.\n",
        "\n",
        "20. What is an ANOVA test, and what are its assumptions?\n",
        "- Ans.\n",
        "ANOVA (Analysis of Variance) checks if there are significant differences between means of 3 or more groups.\n",
        "Assumptions:\n",
        "\n",
        "Independence of observations\n",
        "\n",
        "Normal distribution\n",
        "\n",
        "Equal variances\n",
        "\n",
        "21. What are the different types of ANOVA tests?\n",
        "- Ans.\n",
        "\n",
        "One-Way ANOVA: One independent variable\n",
        "\n",
        "Two-Way ANOVA: Two independent variables\n",
        "\n",
        "Repeated Measures ANOVA: Same subjects tested under different conditions\n",
        "\n",
        "22. What is the F-test, and how does it relate to hypothesis testing?\n",
        "- Ans.\n",
        "F-test compares the variances of two populations. It is used in ANOVA to decide whether the group means are statistically different."
      ],
      "metadata": {
        "id": "05LcG4XR_nZO"
      }
    },
    {
      "cell_type": "markdown",
      "source": [
        "# Practical Part - 1\n"
      ],
      "metadata": {
        "id": "7EsUv8KxBB2h"
      }
    },
    {
      "cell_type": "code",
      "source": [
        "#1. Generate a random variable and display its value\n",
        "\n",
        "import numpy as np\n",
        "\n",
        "random_var = np.random.rand()\n",
        "print(\"Random variable:\", random_var)"
      ],
      "metadata": {
        "id": "41GQ_61WA1cJ"
      },
      "execution_count": null,
      "outputs": []
    },
    {
      "cell_type": "code",
      "source": [
        "# 2. Discrete Uniform Distribution & PMF\n",
        "\n",
        "import numpy as np\n",
        "import matplotlib.pyplot as plt\n",
        "from scipy.stats import randint\n",
        "\n",
        "x = np.arange(1, 7)  # Like a dice\n",
        "pmf = randint.pmf(x, 1, 7)\n",
        "\n",
        "plt.bar(x, pmf)\n",
        "plt.title(\"PMF of Discrete Uniform Distribution (Dice)\")\n",
        "plt.xlabel(\"Value\")\n",
        "plt.ylabel(\"Probability\")\n",
        "plt.show()\n"
      ],
      "metadata": {
        "id": "2CFhM5gBBPz3"
      },
      "execution_count": null,
      "outputs": []
    },
    {
      "cell_type": "code",
      "source": [
        "# 3. Bernoulli Distribution – PDF Calculation\n",
        "\n",
        "from scipy.stats import bernoulli\n",
        "\n",
        "def bernoulli_pdf(p, x):\n",
        "    return bernoulli.pmf(x, p)\n",
        "\n",
        "print(\"P(X=1) when p=0.6:\", bernoulli_pdf(0.6, 1))\n",
        "print(\"P(X=0) when p=0.6:\", bernoulli_pdf(0.6, 0))\n"
      ],
      "metadata": {
        "id": "2LLJSx88BTai"
      },
      "execution_count": null,
      "outputs": []
    },
    {
      "cell_type": "code",
      "source": [
        "# 4. Simulate Binomial Distribution (n=10, p=0.5) and Plot Histogram\n",
        "\n",
        "import numpy as np\n",
        "import matplotlib.pyplot as plt\n",
        "\n",
        "data = np.random.binomial(n=10, p=0.5, size=1000)\n",
        "\n",
        "plt.hist(data, bins=11, edgecolor='black')\n",
        "plt.title(\"Binomial Distribution (n=10, p=0.5)\")\n",
        "plt.xlabel(\"Number of Successes\")\n",
        "plt.ylabel(\"Frequency\")\n",
        "plt.show()\n"
      ],
      "metadata": {
        "id": "FsvqEC8pBTZU"
      },
      "execution_count": null,
      "outputs": []
    },
    {
      "cell_type": "code",
      "source": [
        "# 5. Poisson Distribution and Visualization\n",
        "\n",
        "from scipy.stats import poisson\n",
        "import matplotlib.pyplot as plt\n",
        "\n",
        "mu = 3\n",
        "x = np.arange(0, 10)\n",
        "pmf = poisson.pmf(x, mu)\n",
        "\n",
        "plt.bar(x, pmf)\n",
        "plt.title(\"Poisson Distribution (λ=3)\")\n",
        "plt.xlabel(\"k\")\n",
        "plt.ylabel(\"P(X=k)\")\n",
        "plt.show()\n"
      ],
      "metadata": {
        "id": "-S3ZmfRGBTXy"
      },
      "execution_count": null,
      "outputs": []
    },
    {
      "cell_type": "code",
      "source": [
        "# 6. Plot CDF of a Discrete Uniform Distribution\n",
        "\n",
        "from scipy.stats import randint\n",
        "import matplotlib.pyplot as plt\n",
        "import numpy as np\n",
        "\n",
        "x = np.arange(1, 7)\n",
        "cdf = randint.cdf(x, 1, 7)\n",
        "\n",
        "plt.step(x, cdf, where='mid')\n",
        "plt.title(\"CDF of Discrete Uniform Distribution\")\n",
        "plt.xlabel(\"Value\")\n",
        "plt.ylabel(\"Cumulative Probability\")\n",
        "plt.grid(True)\n",
        "plt.show()\n"
      ],
      "metadata": {
        "id": "WUSdHv7UBTV9"
      },
      "execution_count": null,
      "outputs": []
    },
    {
      "cell_type": "code",
      "source": [
        "# 7. Continuous Uniform Distribution and Visualization\n",
        "\n",
        "import numpy as np\n",
        "import matplotlib.pyplot as plt\n",
        "\n",
        "data = np.random.uniform(low=0.0, high=1.0, size=1000)\n",
        "\n",
        "plt.hist(data, bins=20, edgecolor='black')\n",
        "plt.title(\"Continuous Uniform Distribution\")\n",
        "plt.xlabel(\"Value\")\n",
        "plt.ylabel(\"Frequency\")\n",
        "plt.show()\n"
      ],
      "metadata": {
        "id": "Foz7sNZKBTOw"
      },
      "execution_count": null,
      "outputs": []
    },
    {
      "cell_type": "code",
      "source": [
        "# 8. Simulate Normal Distribution and Plot Histogram\n",
        "\n",
        "import numpy as np\n",
        "import matplotlib.pyplot as plt\n",
        "\n",
        "data = np.random.normal(loc=0, scale=1, size=1000)\n",
        "\n",
        "plt.hist(data, bins=30, edgecolor='black')\n",
        "plt.title(\"Normal Distribution (Mean=0, SD=1)\")\n",
        "plt.xlabel(\"Value\")\n",
        "plt.ylabel(\"Frequency\")\n",
        "plt.show()\n"
      ],
      "metadata": {
        "id": "XploWUVXBTNA"
      },
      "execution_count": null,
      "outputs": []
    },
    {
      "cell_type": "code",
      "source": [
        "# 9. Z-score Calculation and Plot\n",
        "\n",
        "import numpy as np\n",
        "import matplotlib.pyplot as plt\n",
        "from scipy.stats import zscore\n",
        "\n",
        "data = np.random.normal(50, 10, size=1000)\n",
        "z_scores = zscore(data)\n",
        "\n",
        "plt.hist(z_scores, bins=30, edgecolor='black')\n",
        "plt.title(\"Z-scores from Normal Distribution\")\n",
        "plt.xlabel(\"Z-score\")\n",
        "plt.ylabel(\"Frequency\")\n",
        "plt.show()\n"
      ],
      "metadata": {
        "id": "nzxQw84zBTLd"
      },
      "execution_count": null,
      "outputs": []
    },
    {
      "cell_type": "code",
      "source": [
        "# 10. Central Limit Theorem (CLT) Demonstration\n",
        "\n",
        "import numpy as np\n",
        "import matplotlib.pyplot as plt\n",
        "\n",
        "# Generate data from exponential (non-normal) distribution\n",
        "population = np.random.exponential(scale=2.0, size=100000)\n",
        "\n",
        "sample_means = []\n",
        "for _ in range(1000):\n",
        "    sample = np.random.choice(population, size=30)\n",
        "    sample_means.append(np.mean(sample))\n",
        "\n",
        "plt.hist(sample_means, bins=30, edgecolor='black')\n",
        "plt.title(\"CLT: Sampling Distribution of Sample Means\")\n",
        "plt.xlabel(\"Sample Mean\")\n",
        "plt.ylabel(\"Frequency\")\n",
        "plt.show()\n"
      ],
      "metadata": {
        "id": "7A8OuCBHBTI6"
      },
      "execution_count": null,
      "outputs": []
    },
    {
      "cell_type": "code",
      "source": [
        "# 11. Simulate multiple samples from a normal distribution and verify the Central Limit Theorem\n",
        "\n",
        "import numpy as np\n",
        "import matplotlib.pyplot as plt\n",
        "\n",
        "population = np.random.normal(loc=50, scale=15, size=100000)\n",
        "\n",
        "sample_means = [np.mean(np.random.choice(population, size=30)) for _ in range(1000)]\n",
        "\n",
        "plt.hist(sample_means, bins=30, edgecolor='black')\n",
        "plt.title(\"CLT: Sample Means from Normal Distribution\")\n",
        "plt.xlabel(\"Sample Mean\")\n",
        "plt.ylabel(\"Frequency\")\n",
        "plt.show()\n"
      ],
      "metadata": {
        "id": "KJ5R-HfxBTFD"
      },
      "execution_count": null,
      "outputs": []
    },
    {
      "cell_type": "code",
      "source": [
        "# 12. Function to calculate and plot the Standard Normal Distribution (mean=0, std=1)\n",
        "\n",
        "from scipy.stats import norm\n",
        "import numpy as np\n",
        "import matplotlib.pyplot as plt\n",
        "\n",
        "def plot_standard_normal():\n",
        "    x = np.linspace(-4, 4, 1000)\n",
        "    y = norm.pdf(x, 0, 1)\n",
        "\n",
        "    plt.plot(x, y)\n",
        "    plt.title(\"Standard Normal Distribution (mean=0, std=1)\")\n",
        "    plt.xlabel(\"Z\")\n",
        "    plt.ylabel(\"Probability Density\")\n",
        "    plt.grid(True)\n",
        "    plt.show()\n",
        "\n",
        "plot_standard_normal()\n"
      ],
      "metadata": {
        "id": "5QflZNXrBTD2"
      },
      "execution_count": null,
      "outputs": []
    },
    {
      "cell_type": "code",
      "source": [
        "# 13. Generate random variables and calculate binomial distribution probabilities\n",
        "\n",
        "from scipy.stats import binom\n",
        "\n",
        "n, p = 10, 0.5\n",
        "x = np.arange(0, 11)\n",
        "probabilities = binom.pmf(x, n, p)\n",
        "\n",
        "for i, prob in zip(x, probabilities):\n",
        "    print(f\"P(X={i}) = {prob:.3f}\")\n"
      ],
      "metadata": {
        "id": "TJx4RMdgBTCc"
      },
      "execution_count": null,
      "outputs": []
    },
    {
      "cell_type": "code",
      "source": [
        "# 14. Calculate Z-score and compare with standard normal distribution\n",
        "\n",
        "from scipy.stats import norm\n",
        "\n",
        "def z_score(x, mean, std):\n",
        "    z = (x - mean) / std\n",
        "    print(\"Z-score:\", z)\n",
        "    print(\"Probability (standard normal):\", norm.cdf(z))\n",
        "    return z\n",
        "\n",
        "z_score(75, 70, 10)\n"
      ],
      "metadata": {
        "id": "BRL0O5RsBS9O"
      },
      "execution_count": null,
      "outputs": []
    },
    {
      "cell_type": "code",
      "source": [
        "# 15. Hypothesis Testing using Z-statistics\n",
        "from scipy.stats import norm\n",
        "\n",
        "# Example: H0: μ = 100, sample mean = 104, std = 10, n = 50\n",
        "sample_mean = 104\n",
        "pop_mean = 100\n",
        "std_dev = 10\n",
        "n = 50\n",
        "\n",
        "z = (sample_mean - pop_mean) / (std_dev / np.sqrt(n))\n",
        "p_value = 1 - norm.cdf(z)\n",
        "\n",
        "print(\"Z-statistic:\", z)\n",
        "print(\"P-value:\", p_value)\n",
        "\n",
        "if p_value < 0.05:\n",
        "    print(\"Reject the null hypothesis\")\n",
        "else:\n",
        "    print(\"Fail to reject the null hypothesis\")\n"
      ],
      "metadata": {
        "id": "bwwiD2bkBS7o"
      },
      "execution_count": null,
      "outputs": []
    },
    {
      "cell_type": "code",
      "source": [
        "# 16. Confidence Interval for a Dataset\n",
        "\n",
        "import scipy.stats as stats\n",
        "\n",
        "data = np.random.normal(70, 10, 100)\n",
        "mean = np.mean(data)\n",
        "sem = stats.sem(data)\n",
        "ci = stats.t.interval(0.95, len(data)-1, loc=mean, scale=sem)\n",
        "\n",
        "print(f\"95% Confidence Interval: {ci}\")\n",
        "\n"
      ],
      "metadata": {
        "id": "U2NFYNIoBS5j"
      },
      "execution_count": null,
      "outputs": []
    },
    {
      "cell_type": "code",
      "source": [
        "# 17. Confidence Interval from Normal Distribution Data\n",
        "data = np.random.normal(60, 12, 100)\n",
        "mean = np.mean(data)\n",
        "sem = stats.sem(data)\n",
        "ci = stats.t.interval(0.95, len(data)-1, loc=mean, scale=sem)\n",
        "\n",
        "print(\"Sample Mean:\", mean)\n",
        "print(\"95% Confidence Interval:\", ci)\n"
      ],
      "metadata": {
        "id": "3avPG1G3C-F_"
      },
      "execution_count": null,
      "outputs": []
    },
    {
      "cell_type": "code",
      "source": [
        "# 18. PDF of a Normal Distribution\n",
        "\n",
        "x = np.linspace(-4, 4, 100)\n",
        "pdf = norm.pdf(x, loc=0, scale=1)\n",
        "\n",
        "plt.plot(x, pdf)\n",
        "plt.title(\"PDF of Normal Distribution (mean=0, std=1)\")\n",
        "plt.xlabel(\"x\")\n",
        "plt.ylabel(\"PDF\")\n",
        "plt.grid(True)\n",
        "plt.show()\n"
      ],
      "metadata": {
        "id": "eLSexrgkC-Ap"
      },
      "execution_count": null,
      "outputs": []
    },
    {
      "cell_type": "code",
      "source": [
        "# 19. CDF of Poisson Distribution\n",
        "\n",
        "from scipy.stats import poisson\n",
        "\n",
        "mu = 3\n",
        "x = np.arange(0, 10)\n",
        "cdf = poisson.cdf(x, mu)\n",
        "\n",
        "plt.step(x, cdf, where='mid')\n",
        "plt.title(\"CDF of Poisson Distribution (λ=3)\")\n",
        "plt.xlabel(\"k\")\n",
        "plt.ylabel(\"Cumulative Probability\")\n",
        "plt.grid(True)\n",
        "plt.show()\n"
      ],
      "metadata": {
        "id": "iSrguoeSC98c"
      },
      "execution_count": null,
      "outputs": []
    },
    {
      "cell_type": "code",
      "source": [
        "# 20. Simulate Continuous Uniform Distribution & Calculate Expected Value\n",
        "\n",
        "data = np.random.uniform(low=0, high=10, size=1000)\n",
        "expected_value = np.mean(data)\n",
        "\n",
        "print(\"Expected Value (mean):\", expected_value)\n"
      ],
      "metadata": {
        "id": "QrWdluwTC95p"
      },
      "execution_count": null,
      "outputs": []
    },
    {
      "cell_type": "code",
      "source": [
        "# 21. Compare Standard Deviations of Two Datasets & Visualize\n",
        "\n",
        "data1 = np.random.normal(60, 10, 1000)\n",
        "data2 = np.random.normal(60, 20, 1000)\n",
        "\n",
        "print(\"Standard Deviation of Data1:\", np.std(data1))\n",
        "print(\"Standard Deviation of Data2:\", np.std(data2))\n",
        "\n",
        "plt.hist(data1, bins=30, alpha=0.5, label='Std=10')\n",
        "plt.hist(data2, bins=30, alpha=0.5, label='Std=20')\n",
        "plt.legend()\n",
        "plt.title(\"Comparison of Standard Deviations\")\n",
        "plt.show()\n"
      ],
      "metadata": {
        "id": "kGg9kq4YC93K"
      },
      "execution_count": null,
      "outputs": []
    },
    {
      "cell_type": "code",
      "source": [
        "# 22. Calculate Range and IQR from Normal Distribution\n",
        "\n",
        "data = np.random.normal(70, 15, 1000)\n",
        "\n",
        "data_range = np.max(data) - np.min(data)\n",
        "q1 = np.percentile(data, 25)\n",
        "q3 = np.percentile(data, 75)\n",
        "iqr = q3 - q1\n",
        "\n",
        "print(\"Range:\", data_range)\n",
        "print(\"IQR (Interquartile Range):\", iqr)\n"
      ],
      "metadata": {
        "id": "WStwdynMC912"
      },
      "execution_count": null,
      "outputs": []
    },
    {
      "cell_type": "code",
      "source": [
        "# 23. Z-score Normalization & Visualization\n",
        "\n",
        "from scipy.stats import zscore\n",
        "\n",
        "data = np.random.normal(100, 20, 1000)\n",
        "z_scores = zscore(data)\n",
        "\n",
        "plt.hist(z_scores, bins=30, edgecolor='black')\n",
        "plt.title(\"Z-score Normalized Data\")\n",
        "plt.xlabel(\"Z-score\")\n",
        "plt.ylabel(\"Frequency\")\n",
        "plt.show()\n"
      ],
      "metadata": {
        "id": "V3_EAYIUC9zv"
      },
      "execution_count": null,
      "outputs": []
    },
    {
      "cell_type": "code",
      "source": [
        "# 24. Calculate Skewness and Kurtosis\n",
        "\n",
        "from scipy.stats import skew, kurtosis\n",
        "\n",
        "data = np.random.normal(0, 1, 1000)\n",
        "print(\"Skewness:\", skew(data))\n",
        "print(\"Kurtosis:\", kurtosis(data))\n"
      ],
      "metadata": {
        "id": "vAAwHxBAC9vR"
      },
      "execution_count": null,
      "outputs": []
    },
    {
      "cell_type": "markdown",
      "source": [
        "# Practical Part - 2"
      ],
      "metadata": {
        "id": "ss-cF3KSDjkx"
      }
    },
    {
      "cell_type": "code",
      "source": [
        "# 1. Perform a Z-test for comparing a sample mean to a known population mean\n",
        "import numpy as np\n",
        "from scipy.stats import norm\n",
        "\n",
        "# Sample data\n",
        "sample = np.array([102, 100, 98, 101, 97, 99, 100])\n",
        "sample_mean = np.mean(sample)\n",
        "n = len(sample)\n",
        "population_mean = 100\n",
        "population_std = 2\n",
        "\n",
        "# Z-score calculation\n",
        "z = (sample_mean - population_mean) / (population_std / np.sqrt(n))\n",
        "p_value = 2 * (1 - norm.cdf(abs(z)))\n",
        "\n",
        "print(\"Z-score:\", z)\n",
        "print(\"P-value:\", p_value)\n",
        "\n"
      ],
      "metadata": {
        "id": "STpeGAZ6DndP"
      },
      "execution_count": null,
      "outputs": []
    },
    {
      "cell_type": "code",
      "source": [
        "# 2. Simulate random data to perform hypothesis testing and calculate P-value\n",
        "\n",
        "# Simulate random data\n",
        "np.random.seed(0)\n",
        "data = np.random.normal(loc=50, scale=10, size=100)\n",
        "\n",
        "# H0: mean = 50\n",
        "sample_mean = np.mean(data)\n",
        "z = (sample_mean - 50) / (10 / np.sqrt(100))\n",
        "p_value = 2 * (1 - norm.cdf(abs(z)))\n",
        "\n",
        "print(\"Sample mean:\", sample_mean)\n",
        "print(\"Z-score:\", z)\n",
        "print(\"P-value:\", p_value)\n"
      ],
      "metadata": {
        "id": "szGtCaFPH_7G"
      },
      "execution_count": null,
      "outputs": []
    },
    {
      "cell_type": "code",
      "source": [
        "# 3. One-sample Z-test\n",
        "def one_sample_z_test(data, population_mean, population_std):\n",
        "    n = len(data)\n",
        "    sample_mean = np.mean(data)\n",
        "    z = (sample_mean - population_mean) / (population_std / np.sqrt(n))\n",
        "    p = 2 * (1 - norm.cdf(abs(z)))\n",
        "    return z, p\n",
        "\n",
        "# Example\n",
        "data = np.random.normal(48, 5, 50)\n",
        "z, p = one_sample_z_test(data, 50, 5)\n",
        "print(f\"Z = {z:.2f}, P-value = {p:.4f}\")\n"
      ],
      "metadata": {
        "id": "PajiytILH_5j"
      },
      "execution_count": null,
      "outputs": []
    },
    {
      "cell_type": "code",
      "source": [
        "# 4. Two-tailed Z-test with plot\n",
        "import matplotlib.pyplot as plt\n",
        "\n",
        "# Plot standard normal distribution\n",
        "x = np.linspace(-4, 4, 1000)\n",
        "y = norm.pdf(x)\n",
        "\n",
        "plt.plot(x, y)\n",
        "plt.fill_between(x, y, where=(x < -1.96) | (x > 1.96), color='red', alpha=0.3)\n",
        "plt.title(\"Two-tailed Z-test (Critical region shaded)\")\n",
        "plt.xlabel(\"Z-score\")\n",
        "plt.ylabel(\"Probability Density\")\n",
        "plt.grid(True)\n",
        "plt.show()\n"
      ],
      "metadata": {
        "id": "rtTLB-yUH_1i"
      },
      "execution_count": null,
      "outputs": []
    },
    {
      "cell_type": "code",
      "source": [
        "# 5. Visualize Type 1 and Type 2 Errors\n",
        "\n",
        "def visualize_type1_type2(alpha=0.05, beta=0.2):\n",
        "    x = np.linspace(-4, 4, 1000)\n",
        "    null_dist = norm.pdf(x, 0, 1)\n",
        "    alt_dist = norm.pdf(x, 1.5, 1)\n",
        "\n",
        "    plt.plot(x, null_dist, label='Null Hypothesis')\n",
        "    plt.plot(x, alt_dist, label='Alternative Hypothesis')\n",
        "\n",
        "    critical_value = norm.ppf(1 - alpha)\n",
        "    plt.axvline(critical_value, color='red', linestyle='--', label='Critical value (α)')\n",
        "\n",
        "    plt.fill_between(x, null_dist, where=(x > critical_value), color='red', alpha=0.3, label='Type I Error')\n",
        "    plt.fill_between(x, alt_dist, where=(x < critical_value), color='blue', alpha=0.3, label='Type II Error')\n",
        "\n",
        "    plt.legend()\n",
        "    plt.title(\"Type I and Type II Errors\")\n",
        "    plt.show()\n",
        "\n",
        "visualize_type1_type2()\n"
      ],
      "metadata": {
        "id": "djYgGKR3H_zW"
      },
      "execution_count": null,
      "outputs": []
    },
    {
      "cell_type": "code",
      "source": [
        "# 6. Independent T-test\n",
        "\n",
        "from scipy.stats import ttest_ind\n",
        "\n",
        "group1 = np.random.normal(100, 10, 30)\n",
        "group2 = np.random.normal(102, 10, 30)\n",
        "\n",
        "t_stat, p_val = ttest_ind(group1, group2)\n",
        "print(\"T-statistic:\", t_stat)\n",
        "print(\"P-value:\", p_val)\n"
      ],
      "metadata": {
        "id": "HUnY_SvWH_xE"
      },
      "execution_count": null,
      "outputs": []
    },
    {
      "cell_type": "code",
      "source": [
        "# 7. Paired Sample T-test\n",
        "\n",
        "from scipy.stats import ttest_rel\n",
        "\n",
        "before = np.random.normal(70, 5, 20)\n",
        "after = before + np.random.normal(2, 2, 20)\n",
        "\n",
        "t_stat, p_val = ttest_rel(before, after)\n",
        "print(\"T-statistic:\", t_stat)\n",
        "print(\"P-value:\", p_val)\n"
      ],
      "metadata": {
        "id": "kpYErXkjH_ud"
      },
      "execution_count": null,
      "outputs": []
    },
    {
      "cell_type": "code",
      "source": [
        "# 8. Compare Z-test and T-test\n",
        "\n",
        "# Z-test\n",
        "sample = np.random.normal(100, 10, 30)\n",
        "z_score = (np.mean(sample) - 100) / (10 / np.sqrt(30))\n",
        "print(\"Z-test score:\", z_score)\n",
        "\n",
        "# T-test\n",
        "from scipy.stats import ttest_1samp\n",
        "t_stat, p_val = ttest_1samp(sample, 100)\n",
        "print(\"T-test stat:\", t_stat)\n"
      ],
      "metadata": {
        "id": "8zaVLqobH_s5"
      },
      "execution_count": null,
      "outputs": []
    },
    {
      "cell_type": "code",
      "source": [
        "# 9. Confidence Interval for Sample Mean\n",
        "\n",
        "import scipy.stats as stats\n",
        "\n",
        "data = np.random.normal(50, 5, 100)\n",
        "mean = np.mean(data)\n",
        "sem = stats.sem(data)\n",
        "conf_int = stats.t.interval(0.95, len(data)-1, loc=mean, scale=sem)\n",
        "\n",
        "print(\"95% Confidence Interval:\", conf_int)\n"
      ],
      "metadata": {
        "id": "QF0AVh0dH_qY"
      },
      "execution_count": null,
      "outputs": []
    },
    {
      "cell_type": "code",
      "source": [
        "# 10. Margin of Error Calculation\n",
        "\n",
        "sample_size = 100\n",
        "std_dev = 5\n",
        "confidence_level = 0.95\n",
        "z_score = norm.ppf(1 - (1 - confidence_level) / 2)\n",
        "\n",
        "margin_of_error = z_score * (std_dev / np.sqrt(sample_size))\n",
        "print(\"Margin of Error:\", margin_of_error)\n"
      ],
      "metadata": {
        "id": "1m_Y6eplH_Rn"
      },
      "execution_count": null,
      "outputs": []
    },
    {
      "cell_type": "code",
      "source": [
        "# 11. Implement a Bayesian inference method using Bayes' Theorem in Python\n",
        "# Given:\n",
        "# P(A): Probability of having a disease\n",
        "# P(B|A): Probability of testing positive if the person has the disease\n",
        "# P(B): Total probability of testing positive\n",
        "\n",
        "P_A = 0.01         # Prior: 1% of population has the disease\n",
        "P_B_given_A = 0.99 # Sensitivity: 99% test positive if they have it\n",
        "P_B_given_notA = 0.05  # False positive rate: 5%\n",
        "\n",
        "# Total probability of testing positive:\n",
        "P_B = P_B_given_A * P_A + P_B_given_notA * (1 - P_A)\n",
        "\n",
        "# Apply Bayes' Theorem\n",
        "P_A_given_B = (P_B_given_A * P_A) / P_B\n",
        "print(f\"Probability of having the disease given a positive test: {P_A_given_B:.4f}\")\n"
      ],
      "metadata": {
        "id": "HFtOlDLJH_QA"
      },
      "execution_count": null,
      "outputs": []
    },
    {
      "cell_type": "code",
      "source": [
        "# 12.  Perform a Chi-square test for independence between two categorical variables in Python\n",
        "\n",
        "import pandas as pd\n",
        "from scipy.stats import chi2_contingency\n",
        "\n",
        "# Contingency table (e.g., Gender vs Product Preference)\n",
        "data = [[20, 15],  # Male\n",
        "        [30, 35]]  # Female\n",
        "\n",
        "table = pd.DataFrame(data, columns=[\"Product A\", \"Product B\"], index=[\"Male\", \"Female\"])\n",
        "\n",
        "chi2, p, dof, expected = chi2_contingency(table)\n",
        "\n",
        "print(\"Chi-square Statistic:\", chi2)\n",
        "print(\"P-value:\", p)\n",
        "print(\"Degrees of Freedom:\", dof)\n",
        "print(\"Expected Frequencies:\\n\", expected)\n"
      ],
      "metadata": {
        "id": "GO4l2BjZH_OK"
      },
      "execution_count": null,
      "outputs": []
    },
    {
      "cell_type": "code",
      "source": [
        "# 13.  Write a Python program to calculate the expected frequencies for a Chi-square test\n",
        "# We already calculated expected frequencies from chi2_contingency\n",
        "print(\"Expected Frequencies:\")\n",
        "print(pd.DataFrame(expected, columns=[\"Product A\", \"Product B\"], index=[\"Male\", \"Female\"]))\n"
      ],
      "metadata": {
        "id": "1dLmOhWqH_Mn"
      },
      "execution_count": null,
      "outputs": []
    },
    {
      "cell_type": "code",
      "source": [],
      "metadata": {
        "id": "_TssswjuH_K9"
      },
      "execution_count": null,
      "outputs": []
    },
    {
      "cell_type": "code",
      "source": [],
      "metadata": {
        "id": "ISthLgwvH_G4"
      },
      "execution_count": null,
      "outputs": []
    },
    {
      "cell_type": "code",
      "source": [],
      "metadata": {
        "id": "kDKn65YXH_Fd"
      },
      "execution_count": null,
      "outputs": []
    },
    {
      "cell_type": "code",
      "source": [],
      "metadata": {
        "id": "L45u1HJwH_DA"
      },
      "execution_count": null,
      "outputs": []
    }
  ]
}